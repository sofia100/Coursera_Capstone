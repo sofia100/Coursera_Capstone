{
  "nbformat": 4,
  "nbformat_minor": 0,
  "metadata": {
    "colab": {
      "name": "Seattle Pets.ipynb",
      "provenance": [],
      "collapsed_sections": []
    },
    "kernelspec": {
      "name": "python3",
      "display_name": "Python 3"
    }
  },
  "cells": [
    {
      "cell_type": "markdown",
      "metadata": {
        "id": "l1VDakYvO9md",
        "colab_type": "text"
      },
      "source": [
        "# **SEATTLE PETS ANALYSIS**"
      ]
    },
    {
      "cell_type": "markdown",
      "metadata": {
        "id": "SfPPrVyIPHbm",
        "colab_type": "text"
      },
      "source": [
        "## DATA FETCH"
      ]
    },
    {
      "cell_type": "markdown",
      "metadata": {
        "id": "cnpQapHqQ257",
        "colab_type": "text"
      },
      "source": [
        "DATASET IS FETCHED FROM KAGGLE (https://www.kaggle.com/aaronschlegel/seattle-pet-licenses/data). ITS FREE TO USE."
      ]
    },
    {
      "cell_type": "code",
      "metadata": {
        "id": "hwKcOmaaJ20t",
        "colab_type": "code",
        "colab": {}
      },
      "source": [
        "import pandas as pd\n",
        "# Import label encoder \n",
        "from sklearn import preprocessing \n"
      ],
      "execution_count": 10,
      "outputs": []
    },
    {
      "cell_type": "code",
      "metadata": {
        "id": "jpAeOlOWKrJO",
        "colab_type": "code",
        "colab": {
          "base_uri": "https://localhost:8080/",
          "height": 250
        },
        "outputId": "c78cd80d-6c66-4492-ffc4-f1f43ce016d5"
      },
      "source": [
        "df = pd.read_csv(\"seattle_pet_licenses.csv\")\n",
        "df.info()"
      ],
      "execution_count": 11,
      "outputs": [
        {
          "output_type": "stream",
          "text": [
            "<class 'pandas.core.frame.DataFrame'>\n",
            "RangeIndex: 66042 entries, 0 to 66041\n",
            "Data columns (total 7 columns):\n",
            " #   Column              Non-Null Count  Dtype  \n",
            "---  ------              --------------  -----  \n",
            " 0   animal_s_name       64685 non-null  object \n",
            " 1   license_issue_date  66042 non-null  object \n",
            " 2   license_number      43885 non-null  float64\n",
            " 3   primary_breed       66042 non-null  object \n",
            " 4   secondary_breed     22538 non-null  object \n",
            " 5   species             66042 non-null  object \n",
            " 6   zip_code            65884 non-null  object \n",
            "dtypes: float64(1), object(6)\n",
            "memory usage: 3.5+ MB\n"
          ],
          "name": "stdout"
        }
      ]
    },
    {
      "cell_type": "markdown",
      "metadata": {
        "id": "6KXsRHyQLEgr",
        "colab_type": "text"
      },
      "source": [
        "## PRE PROCESSING OF COLUMNS"
      ]
    },
    {
      "cell_type": "code",
      "metadata": {
        "id": "cEnKYXkAlPMx",
        "colab_type": "code",
        "colab": {
          "base_uri": "https://localhost:8080/",
          "height": 250
        },
        "outputId": "04d1cc50-0b5c-4b0f-b8b4-c9d922d80b08"
      },
      "source": [
        "df=df.dropna()\n",
        "df.info()"
      ],
      "execution_count": 12,
      "outputs": [
        {
          "output_type": "stream",
          "text": [
            "<class 'pandas.core.frame.DataFrame'>\n",
            "Int64Index: 11337 entries, 1 to 64945\n",
            "Data columns (total 7 columns):\n",
            " #   Column              Non-Null Count  Dtype  \n",
            "---  ------              --------------  -----  \n",
            " 0   animal_s_name       11337 non-null  object \n",
            " 1   license_issue_date  11337 non-null  object \n",
            " 2   license_number      11337 non-null  float64\n",
            " 3   primary_breed       11337 non-null  object \n",
            " 4   secondary_breed     11337 non-null  object \n",
            " 5   species             11337 non-null  object \n",
            " 6   zip_code            11337 non-null  object \n",
            "dtypes: float64(1), object(6)\n",
            "memory usage: 708.6+ KB\n"
          ],
          "name": "stdout"
        }
      ]
    },
    {
      "cell_type": "markdown",
      "metadata": {
        "id": "NlRfcA_BRJ3u",
        "colab_type": "text"
      },
      "source": [
        "THE CSV FILE OR DATASET HAS 7 COLUMNS AND 11337 ROWS. COLUMNS ARE SELF DESCRIPTIVE."
      ]
    },
    {
      "cell_type": "markdown",
      "metadata": {
        "id": "wqkh4ebhRVki",
        "colab_type": "text"
      },
      "source": [
        "### PREPROCESSING OF ZIPCODE"
      ]
    },
    {
      "cell_type": "code",
      "metadata": {
        "id": "4_JaSn8sLKwp",
        "colab_type": "code",
        "colab": {
          "base_uri": "https://localhost:8080/",
          "height": 217
        },
        "outputId": "8110ef88-1c2c-482b-ffaf-edbf64459076"
      },
      "source": [
        "df['zip_code'].value_counts()"
      ],
      "execution_count": 13,
      "outputs": [
        {
          "output_type": "execute_result",
          "data": {
            "text/plain": [
              "98115    1034\n",
              "98103     972\n",
              "98117     914\n",
              "98125     681\n",
              "98118     642\n",
              "         ... \n",
              "98193       1\n",
              "9810        1\n",
              "89122       1\n",
              "95115       1\n",
              "99203       1\n",
              "Name: zip_code, Length: 79, dtype: int64"
            ]
          },
          "metadata": {
            "tags": []
          },
          "execution_count": 13
        }
      ]
    },
    {
      "cell_type": "code",
      "metadata": {
        "id": "eCSm2vt-iggX",
        "colab_type": "code",
        "colab": {
          "base_uri": "https://localhost:8080/",
          "height": 33
        },
        "outputId": "ff169197-6492-4fc8-fe38-45a79185116b"
      },
      "source": [
        "df= df[df['zip_code']!=\" \"] \n",
        "df.shape"
      ],
      "execution_count": 14,
      "outputs": [
        {
          "output_type": "execute_result",
          "data": {
            "text/plain": [
              "(11302, 7)"
            ]
          },
          "metadata": {
            "tags": []
          },
          "execution_count": 14
        }
      ]
    },
    {
      "cell_type": "code",
      "metadata": {
        "id": "I2Pcw4h8jZp7",
        "colab_type": "code",
        "colab": {
          "base_uri": "https://localhost:8080/",
          "height": 67
        },
        "outputId": "2ef5618c-1a48-4c46-ff8d-651e072f84eb"
      },
      "source": [
        " df[df['zip_code']==\" \"].head \n",
        "#no more null values in zip_code"
      ],
      "execution_count": 15,
      "outputs": [
        {
          "output_type": "execute_result",
          "data": {
            "text/plain": [
              "<bound method NDFrame.head of Empty DataFrame\n",
              "Columns: [animal_s_name, license_issue_date, license_number, primary_breed, secondary_breed, species, zip_code]\n",
              "Index: []>"
            ]
          },
          "metadata": {
            "tags": []
          },
          "execution_count": 15
        }
      ]
    },
    {
      "cell_type": "code",
      "metadata": {
        "id": "ATIddCCaCmnJ",
        "colab_type": "code",
        "colab": {
          "base_uri": "https://localhost:8080/",
          "height": 136
        },
        "outputId": "0625a073-f1fc-4c83-fe7a-484f30b1b182"
      },
      "source": [
        "df[df['zip_code']==\"98115\"].groupby(\"species\").count()"
      ],
      "execution_count": 16,
      "outputs": [
        {
          "output_type": "execute_result",
          "data": {
            "text/html": [
              "<div>\n",
              "<style scoped>\n",
              "    .dataframe tbody tr th:only-of-type {\n",
              "        vertical-align: middle;\n",
              "    }\n",
              "\n",
              "    .dataframe tbody tr th {\n",
              "        vertical-align: top;\n",
              "    }\n",
              "\n",
              "    .dataframe thead th {\n",
              "        text-align: right;\n",
              "    }\n",
              "</style>\n",
              "<table border=\"1\" class=\"dataframe\">\n",
              "  <thead>\n",
              "    <tr style=\"text-align: right;\">\n",
              "      <th></th>\n",
              "      <th>animal_s_name</th>\n",
              "      <th>license_issue_date</th>\n",
              "      <th>license_number</th>\n",
              "      <th>primary_breed</th>\n",
              "      <th>secondary_breed</th>\n",
              "      <th>zip_code</th>\n",
              "    </tr>\n",
              "    <tr>\n",
              "      <th>species</th>\n",
              "      <th></th>\n",
              "      <th></th>\n",
              "      <th></th>\n",
              "      <th></th>\n",
              "      <th></th>\n",
              "      <th></th>\n",
              "    </tr>\n",
              "  </thead>\n",
              "  <tbody>\n",
              "    <tr>\n",
              "      <th>Cat</th>\n",
              "      <td>109</td>\n",
              "      <td>109</td>\n",
              "      <td>109</td>\n",
              "      <td>109</td>\n",
              "      <td>109</td>\n",
              "      <td>109</td>\n",
              "    </tr>\n",
              "    <tr>\n",
              "      <th>Dog</th>\n",
              "      <td>925</td>\n",
              "      <td>925</td>\n",
              "      <td>925</td>\n",
              "      <td>925</td>\n",
              "      <td>925</td>\n",
              "      <td>925</td>\n",
              "    </tr>\n",
              "  </tbody>\n",
              "</table>\n",
              "</div>"
            ],
            "text/plain": [
              "         animal_s_name  license_issue_date  ...  secondary_breed  zip_code\n",
              "species                                     ...                           \n",
              "Cat                109                 109  ...              109       109\n",
              "Dog                925                 925  ...              925       925\n",
              "\n",
              "[2 rows x 6 columns]"
            ]
          },
          "metadata": {
            "tags": []
          },
          "execution_count": 16
        }
      ]
    },
    {
      "cell_type": "markdown",
      "metadata": {
        "id": "fVH2JY2mCw3r",
        "colab_type": "text"
      },
      "source": [
        "**Thus there are 109 Cats in area having zipcode 98115 and 925 dogs. Thus dogs are more popular in the area where licensed registrations is the highest. and total of 10,253 dogs are registered and 1049 cats**\n",
        "\n",
        "\n"
      ]
    },
    {
      "cell_type": "code",
      "metadata": {
        "id": "cXw4a5m0DED_",
        "colab_type": "code",
        "colab": {
          "base_uri": "https://localhost:8080/",
          "height": 136
        },
        "outputId": "84852619-97ab-48a0-86ba-dd6ef77cc58a"
      },
      "source": [
        "df.groupby(\"species\").count()"
      ],
      "execution_count": 17,
      "outputs": [
        {
          "output_type": "execute_result",
          "data": {
            "text/html": [
              "<div>\n",
              "<style scoped>\n",
              "    .dataframe tbody tr th:only-of-type {\n",
              "        vertical-align: middle;\n",
              "    }\n",
              "\n",
              "    .dataframe tbody tr th {\n",
              "        vertical-align: top;\n",
              "    }\n",
              "\n",
              "    .dataframe thead th {\n",
              "        text-align: right;\n",
              "    }\n",
              "</style>\n",
              "<table border=\"1\" class=\"dataframe\">\n",
              "  <thead>\n",
              "    <tr style=\"text-align: right;\">\n",
              "      <th></th>\n",
              "      <th>animal_s_name</th>\n",
              "      <th>license_issue_date</th>\n",
              "      <th>license_number</th>\n",
              "      <th>primary_breed</th>\n",
              "      <th>secondary_breed</th>\n",
              "      <th>zip_code</th>\n",
              "    </tr>\n",
              "    <tr>\n",
              "      <th>species</th>\n",
              "      <th></th>\n",
              "      <th></th>\n",
              "      <th></th>\n",
              "      <th></th>\n",
              "      <th></th>\n",
              "      <th></th>\n",
              "    </tr>\n",
              "  </thead>\n",
              "  <tbody>\n",
              "    <tr>\n",
              "      <th>Cat</th>\n",
              "      <td>1049</td>\n",
              "      <td>1049</td>\n",
              "      <td>1049</td>\n",
              "      <td>1049</td>\n",
              "      <td>1049</td>\n",
              "      <td>1049</td>\n",
              "    </tr>\n",
              "    <tr>\n",
              "      <th>Dog</th>\n",
              "      <td>10253</td>\n",
              "      <td>10253</td>\n",
              "      <td>10253</td>\n",
              "      <td>10253</td>\n",
              "      <td>10253</td>\n",
              "      <td>10253</td>\n",
              "    </tr>\n",
              "  </tbody>\n",
              "</table>\n",
              "</div>"
            ],
            "text/plain": [
              "         animal_s_name  license_issue_date  ...  secondary_breed  zip_code\n",
              "species                                     ...                           \n",
              "Cat               1049                1049  ...             1049      1049\n",
              "Dog              10253               10253  ...            10253     10253\n",
              "\n",
              "[2 rows x 6 columns]"
            ]
          },
          "metadata": {
            "tags": []
          },
          "execution_count": 17
        }
      ]
    },
    {
      "cell_type": "markdown",
      "metadata": {
        "id": "DndZCP4GRo5h",
        "colab_type": "text"
      },
      "source": [
        "SINCE MODELS ONLY  UNDERSTAND THE NUMERIC DATA, WE NEED TO CHANGE IT  TO NUMERIC FROM STRING"
      ]
    },
    {
      "cell_type": "code",
      "metadata": {
        "id": "Olc8pVLPAIXI",
        "colab_type": "code",
        "colab": {
          "base_uri": "https://localhost:8080/",
          "height": 117
        },
        "outputId": "0d3986a5-be88-4bb0-fc83-9d90f7e5d18b"
      },
      "source": [
        "# label_encoder object knows how to understand word labels. \n",
        "le_pin = preprocessing.LabelEncoder() \n",
        "  \n",
        "# Encode labels in column 'species'. \n",
        "df['zip_code']= le_pin.fit_transform(df['zip_code'])\n",
        "df['zip_code'].head()"
      ],
      "execution_count": 18,
      "outputs": [
        {
          "output_type": "execute_result",
          "data": {
            "text/plain": [
              "1     23\n",
              "2     34\n",
              "3     19\n",
              "9     22\n",
              "10    49\n",
              "Name: zip_code, dtype: int64"
            ]
          },
          "metadata": {
            "tags": []
          },
          "execution_count": 18
        }
      ]
    },
    {
      "cell_type": "markdown",
      "metadata": {
        "id": "b4idbKLKSNDc",
        "colab_type": "text"
      },
      "source": [
        "### PREPROCESSING OF SPECIES"
      ]
    },
    {
      "cell_type": "code",
      "metadata": {
        "id": "L8oCD4VMjlEa",
        "colab_type": "code",
        "colab": {
          "base_uri": "https://localhost:8080/",
          "height": 67
        },
        "outputId": "c3cb1317-3268-4c01-a8c4-9c0ed5254e22"
      },
      "source": [
        "df['species'].value_counts()"
      ],
      "execution_count": 19,
      "outputs": [
        {
          "output_type": "execute_result",
          "data": {
            "text/plain": [
              "Dog    10253\n",
              "Cat     1049\n",
              "Name: species, dtype: int64"
            ]
          },
          "metadata": {
            "tags": []
          },
          "execution_count": 19
        }
      ]
    },
    {
      "cell_type": "code",
      "metadata": {
        "id": "-yxaEkDt0uoT",
        "colab_type": "code",
        "colab": {
          "base_uri": "https://localhost:8080/",
          "height": 117
        },
        "outputId": "e2c1c1b4-4565-4581-eb1b-9bff7726f6d0"
      },
      "source": [
        "\n",
        "# label_encoder object knows how to understand word labels. \n",
        "label_encoder = preprocessing.LabelEncoder() \n",
        "  \n",
        "# Encode labels in column 'species'. \n",
        "df['species']= label_encoder.fit_transform(df['species'])\n",
        "df['species'].head()"
      ],
      "execution_count": 20,
      "outputs": [
        {
          "output_type": "execute_result",
          "data": {
            "text/plain": [
              "1     1\n",
              "2     1\n",
              "3     0\n",
              "9     1\n",
              "10    1\n",
              "Name: species, dtype: int64"
            ]
          },
          "metadata": {
            "tags": []
          },
          "execution_count": 20
        }
      ]
    },
    {
      "cell_type": "markdown",
      "metadata": {
        "id": "VNkL6xn0jte1",
        "colab_type": "text"
      },
      "source": [
        "All the pets are either DOGS or CATS... STRINGS ARE CONVERTED TO NUMERIC FORMAT"
      ]
    },
    {
      "cell_type": "markdown",
      "metadata": {
        "id": "SWwP84fESbty",
        "colab_type": "text"
      },
      "source": [
        "### PREPROCESSING OF SECONDARY_BREED AND PRIMARY_BREED TO NUMERIC"
      ]
    },
    {
      "cell_type": "code",
      "metadata": {
        "id": "hvqW8OQlj-er",
        "colab_type": "code",
        "colab": {
          "base_uri": "https://localhost:8080/",
          "height": 217
        },
        "outputId": "9740ecb2-3f00-466a-f058-40756bc53e51"
      },
      "source": [
        "df['secondary_breed'].value_counts()"
      ],
      "execution_count": 21,
      "outputs": [
        {
          "output_type": "execute_result",
          "data": {
            "text/plain": [
              "Mix                              3446\n",
              "Poodle, Standard                  843\n",
              "Poodle, Miniature                 741\n",
              "Retriever, Labrador               639\n",
              "Terrier                           305\n",
              "                                 ... \n",
              "Birman                              1\n",
              "Griffon Vendeen, Grand Basset       1\n",
              "Norwegian Elkhound                  1\n",
              "Bouvier des Flandres                1\n",
              "Spaniel, American Water             1\n",
              "Name: secondary_breed, Length: 185, dtype: int64"
            ]
          },
          "metadata": {
            "tags": []
          },
          "execution_count": 21
        }
      ]
    },
    {
      "cell_type": "code",
      "metadata": {
        "id": "W0vulbqN1HHS",
        "colab_type": "code",
        "colab": {
          "base_uri": "https://localhost:8080/",
          "height": 117
        },
        "outputId": "888a9ff7-69ae-47db-fda0-5f6804151470"
      },
      "source": [
        "# label_encoder object knows how to understand word labels. \n",
        "le_2 = preprocessing.LabelEncoder() \n",
        "  \n",
        "# Encode labels in column 'species'. \n",
        "df['secondary_breed']= le_2.fit_transform(df['secondary_breed'])\n",
        "df['secondary_breed'].head()"
      ],
      "execution_count": 22,
      "outputs": [
        {
          "output_type": "execute_result",
          "data": {
            "text/plain": [
              "1     170\n",
              "2     118\n",
              "3      90\n",
              "9     137\n",
              "10     90\n",
              "Name: secondary_breed, dtype: int64"
            ]
          },
          "metadata": {
            "tags": []
          },
          "execution_count": 22
        }
      ]
    },
    {
      "cell_type": "code",
      "metadata": {
        "id": "1sssBv9rlffY",
        "colab_type": "code",
        "colab": {
          "base_uri": "https://localhost:8080/",
          "height": 217
        },
        "outputId": "6e2a31f1-7c7f-44fe-ba2e-3749f8fa5d25"
      },
      "source": [
        "df['primary_breed'].value_counts()"
      ],
      "execution_count": 23,
      "outputs": [
        {
          "output_type": "execute_result",
          "data": {
            "text/plain": [
              "Retriever, Labrador      2114\n",
              "Chihuahua, Short Coat     591\n",
              "Retriever, Golden         588\n",
              "Terrier                   471\n",
              "Border Collie             364\n",
              "                         ... \n",
              "Chartreux                   1\n",
              "Mexican Hairless            1\n",
              "Neapolitan Mastiff          1\n",
              "Kai Ken                     1\n",
              "Terrier, Pit Bull           1\n",
              "Name: primary_breed, Length: 204, dtype: int64"
            ]
          },
          "metadata": {
            "tags": []
          },
          "execution_count": 23
        }
      ]
    },
    {
      "cell_type": "code",
      "metadata": {
        "id": "dKiXWFlH1Wro",
        "colab_type": "code",
        "colab": {
          "base_uri": "https://localhost:8080/",
          "height": 117
        },
        "outputId": "03f645ce-0fdf-4beb-aa18-d0d53c669c0c"
      },
      "source": [
        "# label_encoder object knows how to understand word labels. \n",
        "le_1 = preprocessing.LabelEncoder() \n",
        "  \n",
        "# Encode labels in column 'species'. \n",
        "df['primary_breed']= le_1.fit_transform(df['primary_breed'])\n",
        "df['primary_breed'].head()"
      ],
      "execution_count": 24,
      "outputs": [
        {
          "output_type": "execute_result",
          "data": {
            "text/plain": [
              "1     147\n",
              "2     136\n",
              "3     102\n",
              "9     152\n",
              "10    137\n",
              "Name: primary_breed, dtype: int64"
            ]
          },
          "metadata": {
            "tags": []
          },
          "execution_count": 24
        }
      ]
    },
    {
      "cell_type": "markdown",
      "metadata": {
        "id": "gLWSStQQT0HW",
        "colab_type": "text"
      },
      "source": [
        "204 types of primary breed pets have been licensed.\n"
      ]
    },
    {
      "cell_type": "markdown",
      "metadata": {
        "id": "3dixGl_MSvPl",
        "colab_type": "text"
      },
      "source": [
        "**PREPROCESSING OF ANIMAL'S NAMES**"
      ]
    },
    {
      "cell_type": "code",
      "metadata": {
        "id": "gm89Jbx5lotH",
        "colab_type": "code",
        "colab": {
          "base_uri": "https://localhost:8080/",
          "height": 217
        },
        "outputId": "0e00d7a1-833a-4b0f-9c58-97c2a1e1e0ab"
      },
      "source": [
        "df['animal_s_name'].value_counts()"
      ],
      "execution_count": 25,
      "outputs": [
        {
          "output_type": "execute_result",
          "data": {
            "text/plain": [
              "Lucy       124\n",
              "Charlie     88\n",
              "Bella       81\n",
              "Molly       71\n",
              "Buddy       70\n",
              "          ... \n",
              "Yin          1\n",
              "Pikachu      1\n",
              "Una May      1\n",
              "Tam          1\n",
              "Columbo      1\n",
              "Name: animal_s_name, Length: 4227, dtype: int64"
            ]
          },
          "metadata": {
            "tags": []
          },
          "execution_count": 25
        }
      ]
    },
    {
      "cell_type": "markdown",
      "metadata": {
        "id": "hSw2GRJ9l0aw",
        "colab_type": "text"
      },
      "source": [
        "*Lucy is most popular name for pets\n",
        "Charlie is 2nd most popular, followed by Bella*\n"
      ]
    },
    {
      "cell_type": "markdown",
      "metadata": {
        "id": "g_ptkRteTBTY",
        "colab_type": "text"
      },
      "source": [
        "PREPROCESSING OF LICENSE_ISSUE_DATE"
      ]
    },
    {
      "cell_type": "code",
      "metadata": {
        "id": "6GqQnm1ilu2C",
        "colab_type": "code",
        "colab": {
          "base_uri": "https://localhost:8080/",
          "height": 217
        },
        "outputId": "9025f03c-a239-4346-c429-b351ff14ff39"
      },
      "source": [
        "df['license_issue_date'].value_counts()"
      ],
      "execution_count": 26,
      "outputs": [
        {
          "output_type": "execute_result",
          "data": {
            "text/plain": [
              "2016-11-01T00:00:00.000    103\n",
              "2016-10-18T00:00:00.000     95\n",
              "2015-03-04T00:00:00.000     88\n",
              "2015-07-21T00:00:00.000     88\n",
              "2015-04-07T00:00:00.000     82\n",
              "                          ... \n",
              "2015-05-24T00:00:00.000      1\n",
              "2014-08-02T00:00:00.000      1\n",
              "2015-03-15T00:00:00.000      1\n",
              "2014-04-15T00:00:00.000      1\n",
              "2014-04-09T00:00:00.000      1\n",
              "Name: license_issue_date, Length: 887, dtype: int64"
            ]
          },
          "metadata": {
            "tags": []
          },
          "execution_count": 26
        }
      ]
    },
    {
      "cell_type": "markdown",
      "metadata": {
        "id": "31dkZtQgmC2q",
        "colab_type": "text"
      },
      "source": [
        "*01ST NOVEMBER 2016 records the highest number of registration - 103\n",
        "followed by 18th OCTOBER 2016 -95*"
      ]
    },
    {
      "cell_type": "markdown",
      "metadata": {
        "id": "CGza43M4TcIO",
        "colab_type": "text"
      },
      "source": [
        "### PREPROCESSING OF LICENSE_NUMBER"
      ]
    },
    {
      "cell_type": "code",
      "metadata": {
        "id": "o1Eat-AkoqhN",
        "colab_type": "code",
        "colab": {
          "base_uri": "https://localhost:8080/",
          "height": 217
        },
        "outputId": "1bf7ce40-cb46-4de3-a0d6-ecf63247f446"
      },
      "source": [
        "df['license_number'].value_counts()"
      ],
      "execution_count": 27,
      "outputs": [
        {
          "output_type": "execute_result",
          "data": {
            "text/plain": [
              "903498.0    3\n",
              "904464.0    3\n",
              "958946.0    3\n",
              "955953.0    3\n",
              "959840.0    3\n",
              "           ..\n",
              "359302.0    1\n",
              "961165.0    1\n",
              "961161.0    1\n",
              "895624.0    1\n",
              "77824.0     1\n",
              "Name: license_number, Length: 10925, dtype: int64"
            ]
          },
          "metadata": {
            "tags": []
          },
          "execution_count": 27
        }
      ]
    },
    {
      "cell_type": "markdown",
      "metadata": {
        "id": "20qE5xv2oxSu",
        "colab_type": "text"
      },
      "source": [
        "one license number is issued to many pets... not accurate"
      ]
    },
    {
      "cell_type": "code",
      "metadata": {
        "id": "J-PXTyLrrwKX",
        "colab_type": "code",
        "colab": {
          "base_uri": "https://localhost:8080/",
          "height": 33
        },
        "outputId": "2c6839af-597d-4726-fe41-3a45122f4a73"
      },
      "source": [
        "df.shape"
      ],
      "execution_count": 28,
      "outputs": [
        {
          "output_type": "execute_result",
          "data": {
            "text/plain": [
              "(11302, 7)"
            ]
          },
          "metadata": {
            "tags": []
          },
          "execution_count": 28
        }
      ]
    },
    {
      "cell_type": "code",
      "metadata": {
        "id": "wSxISgM6o3UE",
        "colab_type": "code",
        "colab": {
          "base_uri": "https://localhost:8080/",
          "height": 136
        },
        "outputId": "e32bce77-e3ad-4db0-f10f-172b60d77181"
      },
      "source": [
        "df[df['license_number']==904464] #CHECKING"
      ],
      "execution_count": 29,
      "outputs": [
        {
          "output_type": "execute_result",
          "data": {
            "text/html": [
              "<div>\n",
              "<style scoped>\n",
              "    .dataframe tbody tr th:only-of-type {\n",
              "        vertical-align: middle;\n",
              "    }\n",
              "\n",
              "    .dataframe tbody tr th {\n",
              "        vertical-align: top;\n",
              "    }\n",
              "\n",
              "    .dataframe thead th {\n",
              "        text-align: right;\n",
              "    }\n",
              "</style>\n",
              "<table border=\"1\" class=\"dataframe\">\n",
              "  <thead>\n",
              "    <tr style=\"text-align: right;\">\n",
              "      <th></th>\n",
              "      <th>animal_s_name</th>\n",
              "      <th>license_issue_date</th>\n",
              "      <th>license_number</th>\n",
              "      <th>primary_breed</th>\n",
              "      <th>secondary_breed</th>\n",
              "      <th>species</th>\n",
              "      <th>zip_code</th>\n",
              "    </tr>\n",
              "  </thead>\n",
              "  <tbody>\n",
              "    <tr>\n",
              "      <th>3753</th>\n",
              "      <td>Buddy</td>\n",
              "      <td>2014-11-19T00:00:00.000</td>\n",
              "      <td>904464.0</td>\n",
              "      <td>127</td>\n",
              "      <td>126</td>\n",
              "      <td>1</td>\n",
              "      <td>46</td>\n",
              "    </tr>\n",
              "    <tr>\n",
              "      <th>64806</th>\n",
              "      <td>Buddy</td>\n",
              "      <td>2016-12-20T00:00:00.000</td>\n",
              "      <td>904464.0</td>\n",
              "      <td>127</td>\n",
              "      <td>126</td>\n",
              "      <td>1</td>\n",
              "      <td>46</td>\n",
              "    </tr>\n",
              "    <tr>\n",
              "      <th>64807</th>\n",
              "      <td>Buddy</td>\n",
              "      <td>2016-12-20T00:00:00.000</td>\n",
              "      <td>904464.0</td>\n",
              "      <td>127</td>\n",
              "      <td>126</td>\n",
              "      <td>1</td>\n",
              "      <td>46</td>\n",
              "    </tr>\n",
              "  </tbody>\n",
              "</table>\n",
              "</div>"
            ],
            "text/plain": [
              "      animal_s_name       license_issue_date  ...  species  zip_code\n",
              "3753          Buddy  2014-11-19T00:00:00.000  ...        1        46\n",
              "64806         Buddy  2016-12-20T00:00:00.000  ...        1        46\n",
              "64807         Buddy  2016-12-20T00:00:00.000  ...        1        46\n",
              "\n",
              "[3 rows x 7 columns]"
            ]
          },
          "metadata": {
            "tags": []
          },
          "execution_count": 29
        }
      ]
    },
    {
      "cell_type": "code",
      "metadata": {
        "id": "YqzvqEzswgTs",
        "colab_type": "code",
        "colab": {
          "base_uri": "https://localhost:8080/",
          "height": 33
        },
        "outputId": "76432873-708c-4ad7-a690-d1bc8e6a55e8"
      },
      "source": [
        "df.drop_duplicates(subset=['license_number', 'license_issue_date'], inplace=True, keep=\"first\")\n",
        "df.shape"
      ],
      "execution_count": 30,
      "outputs": [
        {
          "output_type": "execute_result",
          "data": {
            "text/plain": [
              "(11194, 7)"
            ]
          },
          "metadata": {
            "tags": []
          },
          "execution_count": 30
        }
      ]
    },
    {
      "cell_type": "code",
      "metadata": {
        "id": "48p632TYxOGv",
        "colab_type": "code",
        "colab": {
          "base_uri": "https://localhost:8080/",
          "height": 107
        },
        "outputId": "771cb4c5-136c-400b-d365-e6a60c1d4648"
      },
      "source": [
        "df[df['license_number']==904464]\n",
        "#CHECKING SUCCESSFUL"
      ],
      "execution_count": 31,
      "outputs": [
        {
          "output_type": "execute_result",
          "data": {
            "text/html": [
              "<div>\n",
              "<style scoped>\n",
              "    .dataframe tbody tr th:only-of-type {\n",
              "        vertical-align: middle;\n",
              "    }\n",
              "\n",
              "    .dataframe tbody tr th {\n",
              "        vertical-align: top;\n",
              "    }\n",
              "\n",
              "    .dataframe thead th {\n",
              "        text-align: right;\n",
              "    }\n",
              "</style>\n",
              "<table border=\"1\" class=\"dataframe\">\n",
              "  <thead>\n",
              "    <tr style=\"text-align: right;\">\n",
              "      <th></th>\n",
              "      <th>animal_s_name</th>\n",
              "      <th>license_issue_date</th>\n",
              "      <th>license_number</th>\n",
              "      <th>primary_breed</th>\n",
              "      <th>secondary_breed</th>\n",
              "      <th>species</th>\n",
              "      <th>zip_code</th>\n",
              "    </tr>\n",
              "  </thead>\n",
              "  <tbody>\n",
              "    <tr>\n",
              "      <th>3753</th>\n",
              "      <td>Buddy</td>\n",
              "      <td>2014-11-19T00:00:00.000</td>\n",
              "      <td>904464.0</td>\n",
              "      <td>127</td>\n",
              "      <td>126</td>\n",
              "      <td>1</td>\n",
              "      <td>46</td>\n",
              "    </tr>\n",
              "    <tr>\n",
              "      <th>64806</th>\n",
              "      <td>Buddy</td>\n",
              "      <td>2016-12-20T00:00:00.000</td>\n",
              "      <td>904464.0</td>\n",
              "      <td>127</td>\n",
              "      <td>126</td>\n",
              "      <td>1</td>\n",
              "      <td>46</td>\n",
              "    </tr>\n",
              "  </tbody>\n",
              "</table>\n",
              "</div>"
            ],
            "text/plain": [
              "      animal_s_name       license_issue_date  ...  species  zip_code\n",
              "3753          Buddy  2014-11-19T00:00:00.000  ...        1        46\n",
              "64806         Buddy  2016-12-20T00:00:00.000  ...        1        46\n",
              "\n",
              "[2 rows x 7 columns]"
            ]
          },
          "metadata": {
            "tags": []
          },
          "execution_count": 31
        }
      ]
    },
    {
      "cell_type": "markdown",
      "metadata": {
        "id": "fadwkxLXxYR1",
        "colab_type": "text"
      },
      "source": [
        "hence duplicate rows have been deleted.. *Now the pets having same license number are the renewed license .. thus repeating..*\n",
        "Preprocessing of license_number is completed."
      ]
    },
    {
      "cell_type": "markdown",
      "metadata": {
        "id": "8vAVrL3cyz3z",
        "colab_type": "text"
      },
      "source": [
        "**PreProcessing of data is completed.**\n"
      ]
    },
    {
      "cell_type": "code",
      "metadata": {
        "id": "ObOjmlsczFA_",
        "colab_type": "code",
        "colab": {
          "base_uri": "https://localhost:8080/",
          "height": 401
        },
        "outputId": "d70b6b75-9e89-4b7f-8c70-0207316fc70f"
      },
      "source": [
        "print(df.head())\n",
        "print(df.shape)\n",
        "df.info()"
      ],
      "execution_count": 32,
      "outputs": [
        {
          "output_type": "stream",
          "text": [
            "   animal_s_name       license_issue_date  ...  species  zip_code\n",
            "1           Jack  2009-12-23T00:00:00.000  ...        1        23\n",
            "2         Ginger  2006-01-20T00:00:00.000  ...        1        34\n",
            "3         Pepper  2006-02-07T00:00:00.000  ...        0        19\n",
            "9        Sampson  2008-01-31T00:00:00.000  ...        1        22\n",
            "10         Buddy  2008-03-20T00:00:00.000  ...        1        49\n",
            "\n",
            "[5 rows x 7 columns]\n",
            "(11194, 7)\n",
            "<class 'pandas.core.frame.DataFrame'>\n",
            "Int64Index: 11194 entries, 1 to 64945\n",
            "Data columns (total 7 columns):\n",
            " #   Column              Non-Null Count  Dtype  \n",
            "---  ------              --------------  -----  \n",
            " 0   animal_s_name       11194 non-null  object \n",
            " 1   license_issue_date  11194 non-null  object \n",
            " 2   license_number      11194 non-null  float64\n",
            " 3   primary_breed       11194 non-null  int64  \n",
            " 4   secondary_breed     11194 non-null  int64  \n",
            " 5   species             11194 non-null  int64  \n",
            " 6   zip_code            11194 non-null  int64  \n",
            "dtypes: float64(1), int64(4), object(2)\n",
            "memory usage: 699.6+ KB\n"
          ],
          "name": "stdout"
        }
      ]
    },
    {
      "cell_type": "markdown",
      "metadata": {
        "id": "1KCxXKHRPULo",
        "colab_type": "text"
      },
      "source": [
        "## SPLITTING OF DATA AND TRAING ML MODEL "
      ]
    },
    {
      "cell_type": "code",
      "metadata": {
        "id": "YuGPLLtEzk8z",
        "colab_type": "code",
        "colab": {}
      },
      "source": [
        "df_copy= df\n",
        "#X=df[['zip_code']]\n",
        "X=df_copy.drop(axis=1, labels=['animal_s_name', 'license_issue_date', 'license_number', 'zip_code', 'species'])\n",
        "y=df['species']"
      ],
      "execution_count": 33,
      "outputs": []
    },
    {
      "cell_type": "code",
      "metadata": {
        "id": "F8VJHTIn54Kf",
        "colab_type": "code",
        "colab": {
          "base_uri": "https://localhost:8080/",
          "height": 196
        },
        "outputId": "e066fa36-a85a-4cd9-a365-d6d76926fdeb"
      },
      "source": [
        "X.head()"
      ],
      "execution_count": 34,
      "outputs": [
        {
          "output_type": "execute_result",
          "data": {
            "text/html": [
              "<div>\n",
              "<style scoped>\n",
              "    .dataframe tbody tr th:only-of-type {\n",
              "        vertical-align: middle;\n",
              "    }\n",
              "\n",
              "    .dataframe tbody tr th {\n",
              "        vertical-align: top;\n",
              "    }\n",
              "\n",
              "    .dataframe thead th {\n",
              "        text-align: right;\n",
              "    }\n",
              "</style>\n",
              "<table border=\"1\" class=\"dataframe\">\n",
              "  <thead>\n",
              "    <tr style=\"text-align: right;\">\n",
              "      <th></th>\n",
              "      <th>primary_breed</th>\n",
              "      <th>secondary_breed</th>\n",
              "    </tr>\n",
              "  </thead>\n",
              "  <tbody>\n",
              "    <tr>\n",
              "      <th>1</th>\n",
              "      <td>147</td>\n",
              "      <td>170</td>\n",
              "    </tr>\n",
              "    <tr>\n",
              "      <th>2</th>\n",
              "      <td>136</td>\n",
              "      <td>118</td>\n",
              "    </tr>\n",
              "    <tr>\n",
              "      <th>3</th>\n",
              "      <td>102</td>\n",
              "      <td>90</td>\n",
              "    </tr>\n",
              "    <tr>\n",
              "      <th>9</th>\n",
              "      <td>152</td>\n",
              "      <td>137</td>\n",
              "    </tr>\n",
              "    <tr>\n",
              "      <th>10</th>\n",
              "      <td>137</td>\n",
              "      <td>90</td>\n",
              "    </tr>\n",
              "  </tbody>\n",
              "</table>\n",
              "</div>"
            ],
            "text/plain": [
              "    primary_breed  secondary_breed\n",
              "1             147              170\n",
              "2             136              118\n",
              "3             102               90\n",
              "9             152              137\n",
              "10            137               90"
            ]
          },
          "metadata": {
            "tags": []
          },
          "execution_count": 34
        }
      ]
    },
    {
      "cell_type": "markdown",
      "metadata": {
        "id": "18TXz80gPd0X",
        "colab_type": "text"
      },
      "source": [
        "**DECISION TREE**"
      ]
    },
    {
      "cell_type": "code",
      "metadata": {
        "id": "9JeOd7yG0P_U",
        "colab_type": "code",
        "colab": {}
      },
      "source": [
        "from sklearn.tree import DecisionTreeClassifier # Import Decision Tree Classifier\n",
        "from sklearn.model_selection import train_test_split # Import train_test_split function\n",
        "from sklearn import metrics #Import scikit-learn metrics module for accuracy calculation"
      ],
      "execution_count": 35,
      "outputs": []
    },
    {
      "cell_type": "code",
      "metadata": {
        "id": "3pbL1qfL0ckf",
        "colab_type": "code",
        "colab": {}
      },
      "source": [
        "# Split dataset into training set and test set\n",
        "X_train, X_test, y_train, y_test = train_test_split(X, y, test_size=0.3, random_state=7) # 70% training and 30% test\n"
      ],
      "execution_count": 36,
      "outputs": []
    },
    {
      "cell_type": "code",
      "metadata": {
        "id": "_atsheUyAull",
        "colab_type": "code",
        "colab": {
          "base_uri": "https://localhost:8080/",
          "height": 33
        },
        "outputId": "9dbd297d-cb69-4e3c-ff60-8b7a18aa5093"
      },
      "source": [
        "X_train.shape"
      ],
      "execution_count": 37,
      "outputs": [
        {
          "output_type": "execute_result",
          "data": {
            "text/plain": [
              "(7835, 2)"
            ]
          },
          "metadata": {
            "tags": []
          },
          "execution_count": 37
        }
      ]
    },
    {
      "cell_type": "code",
      "metadata": {
        "id": "pYR2WbGP0mkW",
        "colab_type": "code",
        "colab": {}
      },
      "source": [
        "# Create Decision Tree classifer object\n",
        "clf = DecisionTreeClassifier()\n",
        "\n",
        "# Train Decision Tree Classifer\n",
        "clf = clf.fit(X_train,y_train)\n",
        "\n",
        "#Predict the response for test dataset\n",
        "y_pred = clf.predict(X_test)"
      ],
      "execution_count": 38,
      "outputs": []
    },
    {
      "cell_type": "code",
      "metadata": {
        "id": "l-bMwO1s1lgi",
        "colab_type": "code",
        "colab": {
          "base_uri": "https://localhost:8080/",
          "height": 33
        },
        "outputId": "597624dc-5c2e-4655-b447-3c070b3a0a0d"
      },
      "source": [
        "#evaluation\n",
        "print(\"Accuracy:\",metrics.accuracy_score(y_test, y_pred))\n"
      ],
      "execution_count": 39,
      "outputs": [
        {
          "output_type": "stream",
          "text": [
            "Accuracy: 0.9958320928847871\n"
          ],
          "name": "stdout"
        }
      ]
    },
    {
      "cell_type": "code",
      "metadata": {
        "id": "p1AHkgg3-1KL",
        "colab_type": "code",
        "colab": {
          "base_uri": "https://localhost:8080/",
          "height": 337
        },
        "outputId": "a4e30604-c3dc-4329-8b4f-a1a08bbbe2dc"
      },
      "source": [
        "from sklearn.metrics import confusion_matrix\n",
        "cm = confusion_matrix(y_test, y_pred)\n",
        "import seaborn as sns\n",
        "sns.heatmap(cm, annot=True)"
      ],
      "execution_count": 40,
      "outputs": [
        {
          "output_type": "stream",
          "text": [
            "/usr/local/lib/python3.6/dist-packages/statsmodels/tools/_testing.py:19: FutureWarning: pandas.util.testing is deprecated. Use the functions in the public API at pandas.testing instead.\n",
            "  import pandas.util.testing as tm\n"
          ],
          "name": "stderr"
        },
        {
          "output_type": "execute_result",
          "data": {
            "text/plain": [
              "<matplotlib.axes._subplots.AxesSubplot at 0x7fcfd7363b70>"
            ]
          },
          "metadata": {
            "tags": []
          },
          "execution_count": 40
        },
        {
          "output_type": "display_data",
          "data": {
            "image/png": "[encoded data removed]",
            "text/plain": [
              "<Figure size 432x288 with 2 Axes>"
            ]
          },
          "metadata": {
            "tags": [],
            "needs_background": "light"
          }
        }
      ]
    },
    {
      "cell_type": "code",
      "metadata": {
        "id": "P87AD5Eu1vQc",
        "colab_type": "code",
        "colab": {
          "base_uri": "https://localhost:8080/",
          "height": 70
        },
        "outputId": "4b4a3166-2a33-4df9-d370-01f600bd3653"
      },
      "source": [
        "from sklearn.tree import export_graphviz\n",
        "from sklearn.externals.six import StringIO  \n",
        "from IPython.display import Image  \n",
        "import pydotplus\n",
        "\n",
        "dot_data = StringIO()\n",
        "export_graphviz(clf, out_file=dot_data,  \n",
        "                filled=True, rounded=True,\n",
        "                special_characters=True,feature_names = ['primary_breed', 'secondary_breed'],class_names=['CAT','DOG'])\n",
        "graph = pydotplus.graph_from_dot_data(dot_data.getvalue())  \n",
        "graph.write_png('Classification.png')\n",
        "Image(graph.create_png())"
      ],
      "execution_count": null,
      "outputs": [
        {
          "output_type": "stream",
          "text": [
            "/usr/local/lib/python3.6/dist-packages/sklearn/externals/six.py:31: FutureWarning: The module is deprecated in version 0.21 and will be removed in version 0.23 since we've dropped support for Python 2.7. Please rely on the official version of six (https://pypi.org/project/six/).\n",
            "  \"(https://pypi.org/project/six/).\", FutureWarning)\n"
          ],
          "name": "stderr"
        }
      ]
    },
    {
      "cell_type": "markdown",
      "metadata": {
        "id": "twv6ooCnPibz",
        "colab_type": "text"
      },
      "source": [
        "**KNN CLASSIFER**"
      ]
    },
    {
      "cell_type": "code",
      "metadata": {
        "id": "EHxKZI3v2oXi",
        "colab_type": "code",
        "colab": {}
      },
      "source": [
        "from sklearn.neighbors import KNeighborsClassifier\n",
        "\n",
        "model = KNeighborsClassifier(n_neighbors=3)\n",
        "\n",
        "# Train the model using the training sets\n",
        "model.fit(X,y)\n",
        "\n",
        "#Predict the response for test dataset\n",
        "y_pred = model.predict(X_test)\n",
        "print(\"Accuracy:\",metrics.accuracy_score(y_test, y_pred))\n"
      ],
      "execution_count": null,
      "outputs": []
    },
    {
      "cell_type": "code",
      "metadata": {
        "id": "y-LhGU2m_bAH",
        "colab_type": "code",
        "colab": {}
      },
      "source": [
        "from sklearn.metrics import confusion_matrix\n",
        "cm = confusion_matrix(y_test, y_pred)\n",
        "import seaborn as sns\n",
        "sns.heatmap(cm, annot=True)"
      ],
      "execution_count": null,
      "outputs": []
    },
    {
      "cell_type": "code",
      "metadata": {
        "id": "BvQZVDOz3P7K",
        "colab_type": "code",
        "colab": {}
      },
      "source": [
        "#visualizing\n",
        "from mlxtend.plotting import plot_decision_regions\n",
        "import matplotlib.pyplot as plt\n",
        "\n",
        "\n",
        "# Plotting decision region\n",
        "plot_decision_regions(X.to_numpy(), y.to_numpy(), clf=model, legend=2)\n",
        "# Adding axes annotations\n",
        "plt.xlabel('breed')\n",
        "plt.ylabel('cat or dog')\n",
        "plt.title('Knn visualization' )\n",
        "plt.show()"
      ],
      "execution_count": null,
      "outputs": []
    },
    {
      "cell_type": "markdown",
      "metadata": {
        "id": "f35vZ5AZPm0r",
        "colab_type": "text"
      },
      "source": [
        "**RANDOM FOREST CLASSIFIERS**"
      ]
    },
    {
      "cell_type": "code",
      "metadata": {
        "id": "G0bi7_Lx5ASt",
        "colab_type": "code",
        "colab": {}
      },
      "source": [
        "#Import Random Forest Model\n",
        "from sklearn.ensemble import RandomForestClassifier\n",
        "\n",
        "#Create a Gaussian Classifier\n",
        "clf=RandomForestClassifier(n_estimators=100)\n",
        "\n",
        "#Train the model using the training sets y_pred=clf.predict(X_test)\n",
        "clf.fit(X_train,y_train)\n",
        "\n",
        "y_pred=clf.predict(X_test)\n",
        "# Model Accuracy, how often is the classifier correct?\n",
        "print(\"Accuracy:\",metrics.accuracy_score(y_test, y_pred))"
      ],
      "execution_count": null,
      "outputs": []
    },
    {
      "cell_type": "code",
      "metadata": {
        "id": "WnnZaAr6_gKE",
        "colab_type": "code",
        "colab": {}
      },
      "source": [
        "from sklearn.metrics import confusion_matrix\n",
        "cm = confusion_matrix(y_test, y_pred)\n",
        "import seaborn as sns\n",
        "sns.heatmap(cm, annot=True)"
      ],
      "execution_count": null,
      "outputs": []
    },
    {
      "cell_type": "markdown",
      "metadata": {
        "id": "6LyE5QOLBr6l",
        "colab_type": "text"
      },
      "source": [
        "# CONCLUSION\n",
        "Now based on the pin code you can know that what types of pets are more in your neighborhood. Also using the machine learning models we could 99% accurately classified the cats and dogs based on the breed type."
      ]
    }
  ]
}